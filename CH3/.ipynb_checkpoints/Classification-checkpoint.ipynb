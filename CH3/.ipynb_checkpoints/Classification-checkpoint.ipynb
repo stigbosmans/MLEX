{
 "cells": [
  {
   "cell_type": "code",
   "execution_count": null,
   "metadata": {
    "collapsed": false
   },
   "outputs": [],
   "source": [
    "from sklearn.datasets import fetch_mldata\n",
    "m = fetch_mldata('MNIST original')\n",
    "X, y = m[\"data\"], m[\"target\"]"
   ]
  },
  {
   "cell_type": "code",
   "execution_count": null,
   "metadata": {
    "collapsed": false
   },
   "outputs": [],
   "source": [
    "import matplotlib\n",
    "import matplotlib.pyplot as plt\n",
    "r=X[1000]\n",
    "r=r.reshape(28,28)\n",
    "plt.imshow(r, cmap=matplotlib.cm.binary, interpolation=\"nearest\")\n",
    "plt.show()"
   ]
  },
  {
   "cell_type": "code",
   "execution_count": null,
   "metadata": {
    "collapsed": false
   },
   "outputs": [],
   "source": [
    "import numpy as np\n",
    "print(X.shape)\n",
    "print(y.shape)\n",
    "shuffle_index = np.random.permutation(len(X))\n",
    "test_train_ratio=0.2\n",
    "trainsize=(int)(len(X)*(1-test_train_ratio))\n",
    "Xtrain, Xtest=X[shuffle_index[:trainsize]], X[shuffle_index[trainsize:]]\n",
    "ytrain, ytest=y[shuffle_index[:trainsize]], y[shuffle_index[trainsize:]]\n",
    "ytrain5, ytest5=(ytrain==5),(ytest==5)"
   ]
  },
  {
   "cell_type": "code",
   "execution_count": null,
   "metadata": {
    "collapsed": false
   },
   "outputs": [],
   "source": [
    "from sklearn.linear_model import SGDClassifier\n",
    "\n",
    "sgd_clf = SGDClassifier(random_state=42)\n",
    "sgd_clf.fit(Xtrain, ytrain)\n",
    "\n",
    "preds=sgd_clf.predict(Xtrain)\n",
    "(preds==ytrain).sum()"
   ]
  },
  {
   "cell_type": "code",
   "execution_count": null,
   "metadata": {
    "collapsed": false
   },
   "outputs": [],
   "source": [
    "from sklearn.model_selection import cross_val_score\n",
    "res=cross_val_score(sgd_clf, Xtrain, ytrain, cv=3, scoring=\"accuracy\")\n",
    "print(res)"
   ]
  },
  {
   "cell_type": "code",
   "execution_count": null,
   "metadata": {
    "collapsed": true
   },
   "outputs": [],
   "source": [
    "from sklearn.neighbors import KNeighborsClassifier\n",
    "\n",
    "nei=KNeighborsClassifier(n_neighbors=3);\n",
    "nei.fit(Xtrain,ytrain)\n",
    "print(ytrain[:10])\n",
    "print(nei.predict(Xtrain[:10]))\n",
    "#res=cross_val_score(nei,Xtrain,ytrain,cv=3,scoring=\"accuracy\")\n",
    "#print(res)"
   ]
  },
  {
   "cell_type": "code",
   "execution_count": null,
   "metadata": {
    "collapsed": true
   },
   "outputs": [],
   "source": []
  }
 ],
 "metadata": {
  "kernelspec": {
   "display_name": "Python 2",
   "language": "python",
   "name": "python2"
  },
  "language_info": {
   "codemirror_mode": {
    "name": "ipython",
    "version": 2
   },
   "file_extension": ".py",
   "mimetype": "text/x-python",
   "name": "python",
   "nbconvert_exporter": "python",
   "pygments_lexer": "ipython2",
   "version": "2.7.9"
  },
  "toc": {
   "colors": {
    "hover_highlight": "#DAA520",
    "running_highlight": "#FF0000",
    "selected_highlight": "#FFD700"
   },
   "moveMenuLeft": true,
   "nav_menu": {
    "height": "12px",
    "width": "252px"
   },
   "navigate_menu": true,
   "number_sections": true,
   "sideBar": true,
   "threshold": 4,
   "toc_cell": false,
   "toc_section_display": "block",
   "toc_window_display": false
  }
 },
 "nbformat": 4,
 "nbformat_minor": 2
}
